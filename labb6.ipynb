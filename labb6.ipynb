{
 "cells": [
  {
   "cell_type": "code",
   "execution_count": null,
   "id": "f9271d39",
   "metadata": {},
   "outputs": [],
   "source": [
    "#Write a Python program with builtin function to multiply all the numbers in a list\n",
    "import math\n",
    "q=[4, 5 ,6 , 3]\n",
    "print(math.prod(q))"
   ]
  },
  {
   "cell_type": "code",
   "execution_count": null,
   "id": "09382b96",
   "metadata": {},
   "outputs": [],
   "source": [
    "#Write a Python program with builtin function that checks whether a passed string is palindrome or not.\n",
    "s=input()\n",
    "s1=(''.join(reversed(s)))\n",
    "if s==s1:\n",
    "    print(\"Yep! Is a palindrome\")\n",
    "else:\n",
    "    print(\"No\")"
   ]
  },
  {
   "cell_type": "code",
   "execution_count": null,
   "id": "86b92375",
   "metadata": {},
   "outputs": [],
   "source": [
    "#Write a Python program that invoke square root function after specific milliseconds.\n",
    "import time\n",
    "import math\n",
    "print(\"enter n\")\n",
    "n=int(input())\n",
    "print(\"enter ms\")\n",
    "tm=float(input())\n",
    "time.sleep(tm/1000)\n",
    "print(\"The answer is printed in {} ms, the answer is {}\".format(tm,math.sqrt(n)))"
   ]
  },
  {
   "cell_type": "code",
   "execution_count": null,
   "id": "33dacdf2",
   "metadata": {},
   "outputs": [],
   "source": [
    "#Write a Python program with builtin function that returns True if all elements of the tuple are true.\n",
    "a=[True, False, True]\n",
    "b=[True, 56, True]\n",
    "print(all(a))\n",
    "print(all(b))"
   ]
  },
  {
   "cell_type": "code",
   "execution_count": null,
   "id": "140102a2",
   "metadata": {},
   "outputs": [],
   "source": [
    "#Write a Python program with builtin function that accepts a string and calculate the number of upper case letters and lower case letters\n",
    "s=\"ThisIsMyString\"\n",
    "cnt1=0\n",
    "cnt2=0\n",
    "for i in s:\n",
    "    if(i.isupper()):\n",
    "        cnt1+=1\n",
    "    elif(i.islower()):\n",
    "        cnt2+=1\n",
    "print(\"Uppercase:\", cnt1)\n",
    "print(\"Lowercase:\", cnt2)"
   ]
  },
  {
   "cell_type": "code",
   "execution_count": null,
   "id": "4e96ecc0",
   "metadata": {},
   "outputs": [],
   "source": []
  },
  {
   "cell_type": "code",
   "execution_count": null,
   "id": "e56fb21a",
   "metadata": {},
   "outputs": [],
   "source": []
  }
 ],
 "metadata": {
  "kernelspec": {
   "display_name": "Python 3 (ipykernel)",
   "language": "python",
   "name": "python3"
  },
  "language_info": {
   "codemirror_mode": {
    "name": "ipython",
    "version": 3
   },
   "file_extension": ".py",
   "mimetype": "text/x-python",
   "name": "python",
   "nbconvert_exporter": "python",
   "pygments_lexer": "ipython3",
   "version": "3.9.13"
  }
 },
 "nbformat": 4,
 "nbformat_minor": 5
}
